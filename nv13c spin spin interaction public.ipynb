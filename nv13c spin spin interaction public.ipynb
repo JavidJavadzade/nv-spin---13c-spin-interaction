{
 "cells": [
  {
   "cell_type": "markdown",
   "metadata": {},
   "source": [
    "#### What should be changed/improved"
   ]
  },
  {
   "cell_type": "markdown",
   "metadata": {
    "ExecuteTime": {
     "end_time": "2019-01-11T12:04:09.281094Z",
     "start_time": "2019-01-11T12:04:09.277097Z"
    }
   },
   "source": [
    "3) Правильно считай частоту Раби (Надо обобщенную считать)"
   ]
  },
  {
   "cell_type": "markdown",
   "metadata": {},
   "source": [
    "#### Imports"
   ]
  },
  {
   "cell_type": "code",
   "execution_count": 1,
   "metadata": {
    "ExecuteTime": {
     "end_time": "2019-02-12T16:54:16.885589Z",
     "start_time": "2019-02-12T16:54:15.752133Z"
    }
   },
   "outputs": [],
   "source": [
    "import matplotlib.pyplot as plt\n",
    "import numpy as np\n",
    "from qutip import *\n",
    "from tqdm import tqdm\n",
    "import copy\n",
    "from scipy.optimize import curve_fit"
   ]
  },
  {
   "cell_type": "markdown",
   "metadata": {},
   "source": [
    "#### Definition of constants + technical functions"
   ]
  },
  {
   "cell_type": "code",
   "execution_count": 2,
   "metadata": {
    "ExecuteTime": {
     "end_time": "2019-02-12T16:54:17.395128Z",
     "start_time": "2019-02-12T16:54:17.390130Z"
    }
   },
   "outputs": [],
   "source": [
    "options = Options()\n",
    "options.nsteps = 10000\n",
    "\n",
    "# DC magnetic fields\n",
    "bx=0 #in Tesla\n",
    "by=0 #in Tesla\n",
    "bz=0.05 #in Tesla\n",
    "\n",
    "\n",
    "MW_Rabi = 10e0 # 1MHz\n",
    "RF_Rabi = 3e-3 # 3kHz\n",
    "\n",
    "T2El = 1e3 # us \n",
    "T1El = 1e6 # us \n",
    "\n",
    "# T1N=infinity\n",
    "# T2N=infinity\n",
    "D_gs  = 2.87e3 #2.87 GHz\n",
    "g_el  = 28.8e3 # electron gyromagnetic ratio\n",
    "g_nuc = 10.71 # nuclear gyromagnetic ratio\n",
    "A_pargs= 6.28*33e-3\n",
    "A_ortgs= 6.28*35e-3\n",
    "\n",
    "\n",
    "wMW = (D_gs+bz*(g_el+g_nuc)+A_pargs)\n",
    "# !!!!!!!!!!!!!!!!!!!!\n",
    "# A_pargs=A_ortgs=bx=by=0\n",
    "# bx=by=0\n",
    "# !!!!!!!!!!!!!!!!!!!!"
   ]
  },
  {
   "cell_type": "code",
   "execution_count": 3,
   "metadata": {
    "ExecuteTime": {
     "end_time": "2019-02-12T16:54:17.813515Z",
     "start_time": "2019-02-12T16:54:17.805519Z"
    }
   },
   "outputs": [],
   "source": [
    "# Some technical functions\n",
    "Sx = tensor(jmat(1,'x'),identity(2))\n",
    "Sy = tensor(jmat(1,'y'),identity(2))\n",
    "Sz = tensor(jmat(1,'z'),identity(2))\n",
    "Ix = (tensor(qeye(3),sigmax()))\n",
    "Iy = (tensor(qeye(3),sigmay())) \n",
    "Iz = (tensor(qeye(3),sigmaz()))"
   ]
  },
  {
   "cell_type": "markdown",
   "metadata": {},
   "source": [
    "#### Hamiltonian of ground state"
   ]
  },
  {
   "cell_type": "code",
   "execution_count": 4,
   "metadata": {
    "ExecuteTime": {
     "end_time": "2019-02-12T16:54:18.480181Z",
     "start_time": "2019-02-12T16:54:18.470186Z"
    }
   },
   "outputs": [],
   "source": [
    "#Hamiltonian\n",
    "\n",
    "H0 = (D_gs-wMW)*Sz*Sz # D_gs * Sz^2\n",
    "Hhf = A_pargs  * Sz*Iz+A_ortgs  * Sz*Ix  # Hyperfine coupling A_parallel* Sz *Iz  + A_ort *Sz Ix\n",
    "Hzel =  bx*g_el*Sx + by*g_el*Sy + bz*g_el*Sz # electronic spin in magnetic field\n",
    "Hznuc = bx*g_nuc*Ix + by*g_nuc*Iy + bz*g_nuc*Iz # nuclear spin in magnetic field\n",
    "\n",
    "H  = H0+Hzel+Hhf+Hznuc # Total Hamiltonian\n",
    "\n",
    "# collapse operators:\n",
    "c_ops = [  \n",
    "    1/T1El*tensor(basis(3,1)*basis(3,0).dag(),qeye(2)), # T1 Electron spin\n",
    "    1/T2El*tensor(jmat(1,'z'),qeye(2))] # T2 Electron spin\n",
    "\n",
    "e_ops=[] \n",
    "allStates=[] # array of all intermidiate states \n",
    "allTimes=[] # array of times"
   ]
  },
  {
   "cell_type": "markdown",
   "metadata": {},
   "source": [
    "#### Energy levels plot"
   ]
  },
  {
   "cell_type": "code",
   "execution_count": 5,
   "metadata": {
    "ExecuteTime": {
     "end_time": "2019-02-12T16:54:19.448179Z",
     "start_time": "2019-02-12T16:54:19.246275Z"
    }
   },
   "outputs": [
    {
     "name": "stdout",
     "output_type": "stream",
     "text": [
      "electron zeeman  1440.0 Mhz\n",
      "parallel hyperfine coupling  0.207 Mhz\n",
      "ortogonal hyperfine coupling  0.22 Mhz\n",
      "nuclear zeeman  0.536 Mhz\n",
      "nuclear spinflip rate  0.08060634625088892\n"
     ]
    },
    {
     "data": {
      "image/png": "[encoded data removed]",
      "text/plain": [
       "<Figure size 864x288 with 1 Axes>"
      ]
     },
     "metadata": {},
     "output_type": "display_data"
    }
   ],
   "source": [
    "%matplotlib inline\n",
    "print('electron zeeman ' , np.round(bz*g_el, 3), 'Mhz')\n",
    "print('parallel hyperfine coupling ' , np.round(A_pargs,3), 'Mhz' )\n",
    "print('ortogonal hyperfine coupling ' , np.round(A_ortgs,3), 'Mhz' )\n",
    "print('nuclear zeeman ' , np.round(bz*g_nuc,3) , 'Mhz')\n",
    "print('nuclear spinflip rate ' , \n",
    "      np.round(A_ortgs,3)**2 / \n",
    "      (np.round(A_ortgs,3)**2 + (np.round(bz*g_nuc+A_pargs,3)**2 ))\n",
    "     )\n",
    "\n",
    "\n",
    "# plot_energy_levels([H0,Hzel,Hhf,Hznuc],figsize=(12,4),labels = ['EL. ZFS','EL. ZEEMAN','NUC HF','NUC. ZEEMAN']);\n",
    "\n",
    "#with random scale coefficients\n",
    "plot_energy_levels([(H0+wMW*Sz*Sz)/5,Hzel/10,Hhf*1000,Hznuc*100],figsize=(12,4),labels = ['EL. ZFS','EL. ZEEMAN','NUC HF','NUC. ZEEMAN']);\n"
   ]
  },
  {
   "cell_type": "markdown",
   "metadata": {},
   "source": [
    "#### Pulses"
   ]
  },
  {
   "cell_type": "code",
   "execution_count": 6,
   "metadata": {
    "ExecuteTime": {
     "end_time": "2019-02-12T16:54:20.154298Z",
     "start_time": "2019-02-12T16:54:20.150300Z"
    }
   },
   "outputs": [],
   "source": [
    "# def optical_exc(state):\n",
    "        \n",
    "#     global allStates\n",
    "#     global total_time\n",
    "#     global allTimes\n",
    "\n",
    "#     tlist = np.linspace(total_time,total_time+time,2000)\n",
    "#     total_time+=time    \n",
    "    \n",
    "#     output = mesolve(H, state, tlist, c_ops, e_ops)  \n",
    "#     allStates=allStates + output.states\n",
    "    \n",
    "#     allTimes =allTimes  + list(tlist)\n",
    "    \n",
    "#     return output   "
   ]
  },
  {
   "cell_type": "code",
   "execution_count": 7,
   "metadata": {
    "ExecuteTime": {
     "end_time": "2019-02-12T16:54:20.859020Z",
     "start_time": "2019-02-12T16:54:20.854023Z"
    }
   },
   "outputs": [],
   "source": [
    "def free_evol(state,time):    \n",
    "    '''\n",
    "    operator of free evolution \n",
    "    state = initial state of the system, time = duration of free evolution\n",
    "    '''\n",
    "    \n",
    "    global allStates\n",
    "    global total_time\n",
    "    global allTimes\n",
    "\n",
    "    tlist = np.linspace(total_time,total_time+time,2000)\n",
    "    total_time+=time    \n",
    "    \n",
    "    output = mesolve(H, state, tlist, c_ops, e_ops)  \n",
    "    allStates=allStates + output.states\n",
    "    \n",
    "    allTimes =allTimes  + list(tlist)\n",
    "    \n",
    "    return output   "
   ]
  },
  {
   "cell_type": "code",
   "execution_count": 8,
   "metadata": {
    "ExecuteTime": {
     "end_time": "2019-02-12T16:54:21.275010Z",
     "start_time": "2019-02-12T16:54:21.270012Z"
    }
   },
   "outputs": [],
   "source": [
    "\n",
    "def init(state,time):\n",
    "    \n",
    "    '''\n",
    "    non-unitary operation of electron spin initialization to |0> state.\n",
    "    state = initial state of the system, time = duration of initialization pulse\n",
    "    '''\n",
    "    global allStates\n",
    "    global total_time\n",
    "    global allTimes\n",
    "    \n",
    "    temp=[total_time]\n",
    "#     temp.append()\n",
    "    tlist = np.linspace(total_time,total_time+time,2000)\n",
    "    total_time+=time    \n",
    "    temp.append(total_time)\n",
    "    \n",
    "    init_times.append(temp)\n",
    "    c=c_ops.copy()\n",
    "    c.append(15*tensor(basis(3,1)*basis(3,0).dag(),qeye(2)))\n",
    "    c.append(15*tensor(basis(3,1)*basis(3,2).dag(),qeye(2)))\n",
    "             \n",
    "    output = mesolve(H, state, tlist, c, e_ops, options=options)  \n",
    "    allStates=allStates + output.states\n",
    "    allTimes =allTimes  + list(tlist)\n",
    "    \n",
    "    return output    "
   ]
  },
  {
   "cell_type": "code",
   "execution_count": 9,
   "metadata": {
    "ExecuteTime": {
     "end_time": "2019-02-12T16:54:21.724509Z",
     "start_time": "2019-02-12T16:54:21.717511Z"
    }
   },
   "outputs": [],
   "source": [
    "#!!! Doesn't count phase\n",
    "def MW_exc(state,time,w):\n",
    "    \n",
    "     \n",
    "    '''\n",
    "    operator of microwave excitation in interaction picture\n",
    "    state = initial state of the system, time = duration of MW, w = MW frequency\n",
    "    '''\n",
    "    global allStates\n",
    "    global total_time\n",
    "    global allTimes\n",
    "\n",
    "#     delta = D_gs+bz*g_el - w #detuning from 0,-1/2 --> 1,-1/2 transition\n",
    "#     MW_Rabi_general = np.sqrt(MW_Rabi**2+delta**2) #\n",
    "\n",
    "    MW_Rabi_general = MW_Rabi\n",
    "    if time=='pi':\n",
    "        time= np.pi/MW_Rabi_general *np.sqrt(2)\n",
    "    if time=='pi/2':\n",
    "        time= 0.5 * np.pi/MW_Rabi_general *np.sqrt(2)\n",
    "\n",
    "    temp=[total_time]        \n",
    "    tlist = np.linspace(total_time,total_time+time,2000)   \n",
    "    total_time+=time        \n",
    "    temp.append(total_time)\n",
    "    MW_times.append(temp)\n",
    "\n",
    "    \n",
    "    \n",
    "    H_MW_exc=H.copy()   \n",
    "    H_MW_exc += MW_Rabi_general/2 *Sx\n",
    "    \n",
    "#     H_MW_exc += - D_gs*Sz*Sz - (w-D_gs)*Sz +MW_Rabi_general/2 *Sx #\n",
    "# \n",
    "    output = mesolve(H_MW_exc, state, tlist, c_ops, e_ops, options=options )    \n",
    "    \n",
    "    allStates = allStates + output.states\n",
    "    allTimes =allTimes  + list(tlist)\n",
    "    \n",
    "    return output"
   ]
  },
  {
   "cell_type": "code",
   "execution_count": 10,
   "metadata": {
    "ExecuteTime": {
     "end_time": "2019-02-12T16:54:22.162982Z",
     "start_time": "2019-02-12T16:54:22.157985Z"
    }
   },
   "outputs": [],
   "source": [
    "def RF_exc(state,time,wRF):\n",
    "    '''\n",
    "    operator of radiofrequency excitation, NOT in interaction picture\n",
    "    state = initial state of the system, time = duration of RF, wRF = RF frequency\n",
    "    '''\n",
    "    \n",
    "    global allStates\n",
    "    global total_time\n",
    "    global allTimes\n",
    "    \n",
    "    \n",
    "    \n",
    "    if time=='pi':\n",
    "        time=np.pi/RF_Rabi\n",
    "\n",
    "    if time=='pi/2':\n",
    "        time= 0.5*np.pi/RF_Rabi\n",
    "    tlist = np.linspace(total_time,total_time+time,2000)\n",
    "    \n",
    "    H_RF_exc = [H, [RF_Rabi*Ix,'cos(wRF * t)'] ]\n",
    "\n",
    "    args = {'wRF': wRF}\n",
    "    total_time+=time    \n",
    "\n",
    "    output = mesolve(H_RF_exc, state, tlist, c_ops, e_ops, options=options, args=args )    \n",
    "\n",
    "    allStates=allStates + output.states\n",
    "    allTimes =allTimes  + list(tlist)\n",
    "    \n",
    "    return output"
   ]
  },
  {
   "cell_type": "markdown",
   "metadata": {},
   "source": [
    "#### Pulse sequence \n"
   ]
  },
  {
   "cell_type": "code",
   "execution_count": 11,
   "metadata": {
    "ExecuteTime": {
     "end_time": "2019-02-12T16:54:23.580505Z",
     "start_time": "2019-02-12T16:54:23.157261Z"
    }
   },
   "outputs": [],
   "source": [
    "s1=tensor(basis(3,1),basis(2,0)).unit() # MW(espin) = 0 basis(3,1), RF(nspin) = -1/2 basis(2,1)\n",
    "\n",
    "allStates=[s1*s1.dag()]\n",
    "allTimes=[0]\n",
    "total_time=0\n",
    "\n",
    "MW_times=[]\n",
    "RF_times=[]\n",
    "free_evol_times=[]\n",
    "init_times=[]\n",
    "\n",
    "MW_exc(allStates[-1],'pi',wMW) \n",
    "\n",
    "espin = expect(allStates, tensor(jmat(1,'z'),qeye(2)))\n",
    "nspin = expect(allStates, tensor(qeye(3),sigmaz()))"
   ]
  },
  {
   "cell_type": "code",
   "execution_count": 12,
   "metadata": {
    "ExecuteTime": {
     "end_time": "2019-02-12T16:54:24.042486Z",
     "start_time": "2019-02-12T16:54:23.917769Z"
    }
   },
   "outputs": [
    {
     "data": {
      "image/png": "[encoded data removed]",
      "text/plain": [
       "<Figure size 720x432 with 1 Axes>"
      ]
     },
     "metadata": {},
     "output_type": "display_data"
    }
   ],
   "source": [
    "fig, ax = plt.subplots(figsize=(10,6))\n",
    "ax.plot(allTimes, espin, 'g')\n",
    "# ax.plot(allTimes, nspin, 'b')\n",
    "\n",
    "for t in RF_times:\n",
    "    ax.axvspan(t[0], t[1], alpha=0.1, color='blue')\n",
    "for t in free_evol_times:\n",
    "    ax.axvspan(t[0], t[1], alpha=0.1, color='grey')\n",
    "for t in init_times:\n",
    "    ax.axvspan(t[0], t[1], alpha=0.1, color='red')\n",
    "for t in MW_times:\n",
    "    ax.axvspan(t[0], t[1], alpha=0.3, color='green')\n",
    "    \n",
    "ax.set_xlabel('Time')\n",
    "ax.set_ylabel('expectation value');\n",
    "plt.show()"
   ]
  },
  {
   "cell_type": "code",
   "execution_count": null,
   "metadata": {
    "ExecuteTime": {
     "end_time": "2019-02-12T16:31:04.914804Z",
     "start_time": "2019-02-12T16:30:31.167817Z"
    },
    "code_folding": []
   },
   "outputs": [],
   "source": []
  },
  {
   "cell_type": "markdown",
   "metadata": {},
   "source": [
    "#### Old Ideas"
   ]
  },
  {
   "cell_type": "markdown",
   "metadata": {},
   "source": [
    "#####  Добавь метастабильный уровень и декогеренцию в верхнем состоянии\n",
    "\n",
    "На самом деле не надо, так как вся эта симуляция для того, чтбы следить за спином 13С, а ему пофиг на такие быстрые флуктуации фазы электронного спина\n",
    "\n"
   ]
  },
  {
   "cell_type": "markdown",
   "metadata": {},
   "source": [
    "#### Tests"
   ]
  },
  {
   "cell_type": "code",
   "execution_count": null,
   "metadata": {},
   "outputs": [],
   "source": []
  }
 ],
 "metadata": {
  "kernelspec": {
   "display_name": "Python 3",
   "language": "python",
   "name": "python3"
  },
  "language_info": {
   "codemirror_mode": {
    "name": "ipython",
    "version": 3
   },
   "file_extension": ".py",
   "mimetype": "text/x-python",
   "name": "python",
   "nbconvert_exporter": "python",
   "pygments_lexer": "ipython3",
   "version": "3.6.5"
  },
  "notify_time": "30",
  "varInspector": {
   "cols": {
    "lenName": 16,
    "lenType": 16,
    "lenVar": 40
   },
   "kernels_config": {
    "python": {
     "delete_cmd_postfix": "",
     "delete_cmd_prefix": "del ",
     "library": "var_list.py",
     "varRefreshCmd": "print(var_dic_list())"
    },
    "r": {
     "delete_cmd_postfix": ") ",
     "delete_cmd_prefix": "rm(",
     "library": "var_list.r",
     "varRefreshCmd": "cat(var_dic_list()) "
    }
   },
   "oldHeight": 801,
   "position": {
    "height": "823px",
    "left": "1545px",
    "right": "20px",
    "top": "130px",
    "width": "350px"
   },
   "types_to_exclude": [
    "module",
    "function",
    "builtin_function_or_method",
    "instance",
    "_Feature"
   ],
   "varInspector_section_display": "block",
   "window_display": true
  }
 },
 "nbformat": 4,
 "nbformat_minor": 2
}
