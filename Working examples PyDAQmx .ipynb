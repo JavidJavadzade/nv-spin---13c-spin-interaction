{
 "cells": [
  {
   "cell_type": "markdown",
   "metadata": {},
   "source": [
    "## Imports"
   ]
  },
  {
   "cell_type": "code",
   "execution_count": 1,
   "metadata": {
    "ExecuteTime": {
     "end_time": "2019-08-29T14:35:17.937610Z",
     "start_time": "2019-08-29T14:35:16.962095Z"
    }
   },
   "outputs": [],
   "source": [
    "from PyDAQmx import *\n",
    "import numpy as np\n",
    "import time\n",
    "from ctypes import *\n",
    "import matplotlib.pyplot as plt"
   ]
  },
  {
   "cell_type": "markdown",
   "metadata": {},
   "source": [
    "## Counter\n"
   ]
  },
  {
   "cell_type": "code",
   "execution_count": 7,
   "metadata": {
    "ExecuteTime": {
     "end_time": "2019-05-10T12:36:02.452042Z",
     "start_time": "2019-05-10T12:36:00.415497Z"
    }
   },
   "outputs": [
    {
     "name": "stdout",
     "output_type": "stream",
     "text": [
      "[[1 0 1 0 1 0 1 0 1 0 1 0 1 0 1 0 1 0 1 0 1 0 1 0 1 0 1 0 1 0 1 0 1 0 1 0\n",
      "  1 0 1 0 1 0 1 0 1 0 1 0 1 0 1 0 1 0 1 0 1 0 1 0 1 0 1 0 1 0 1 0 1 0 1 0\n",
      "  1 0 1 0 1 0 1 0 1 0 1 0 1 0 1 0 1 0 1 0 1 0 1 0 1 0 1 0 1 0 1 0 1 0 1 0\n",
      "  1 0 1 0 1 0 1 0 1 0 1 0 1 0 1 0 1 0 1 0 1 0 1 0 1 0 1 0 1 0 1 0 1 0 1 0\n",
      "  1 0 1 0 1 0 1 0 1 0 1 0 1 0 1 0 1 0 1 0 1 0 1 0 1 0 1 0 1 0 1 0 1 0 1 0\n",
      "  1 0 1 0 1 0 1 0 1 0 1 0 1 0 1 0 1 0 1 0]]\n"
     ]
    }
   ],
   "source": [
    "try:\n",
    "    Counter.StopTask()\n",
    "    Counter.ClearTask()\n",
    "    Clock.StopTask()\n",
    "    Clock.ClearTask()\n",
    "except:\n",
    "    pass\n",
    "\n",
    "\n",
    "Counter = Task()\n",
    "Clock = Task()\n",
    "\n",
    "read = c_ulong()\n",
    "read2 = c_uint64()\n",
    "rate = 1000\n",
    "n_samples = 1000\n",
    "duty_cycle = 0.5\n",
    "period = 0.02\n",
    "\n",
    "my_clock_channel = '/Dev2/Ctr0'\n",
    "# Create channel to generate digital pulses that freq and dutyCycle define and adds the channel to the task\n",
    "Clock.CreateCOPulseChanFreq(my_clock_channel,  #  The name of the counter to use to create virtual channels\n",
    "                            \"myClockTask\", # The name to assign to the created virtual channel\n",
    "                            DAQmx_Val_Hz, # The units in which to specify freq.\n",
    "                            DAQmx_Val_Low, # The resting state of the output terminal.\n",
    "                            0.0, # The amount of time in seconds to wait before generating the first pulse.\n",
    "                            1/float(period), # The frequency at which to generate pulses.\n",
    "                            duty_cycle, # The width of the pulse divided by the pulse period.\n",
    "                           )\n",
    "\n",
    "# Sets only the number of samples to acquire or generate without specifying timing. \n",
    "Clock.CfgImplicitTiming(\n",
    "    DAQmx_Val_ContSamps, # Acquire or generate samples until you stop the task.\n",
    "    1000 # the buffer size\n",
    ")\n",
    "\n",
    "Clock.StartTask()\n",
    "\n",
    "### TEST HERE FROM QUDI\n",
    "\n",
    "\n",
    "# Creates a channel to measure the time between state transitions of a digital signal \n",
    "ch = '/Dev2/Ctr1'\n",
    "Counter.CreateCISemiPeriodChan(\n",
    "                    ch,# use this counter channel. The name of the counter to use to create virtual channels.\n",
    "                    'Counter Channel 1', #The name to assign to the created virtual channel.\n",
    "                    0, # Expected minimum count value\n",
    "                    5,# Expected maximum count value\n",
    "    \n",
    "                    DAQmx_Val_Ticks, # The units to use to return the measurement. Here are timebase ticks\n",
    "                    ''# customScaleName, in case of different units(DAQmx_Val_FromCustomScale).\n",
    ")\n",
    "\n",
    "\n",
    "\n",
    "# Set the Counter Input to a Semi Period input Terminal.\n",
    "# Connect the pulses from the counter clock to the counter channel\n",
    "        \n",
    "# Specifies the input terminal of the signal to measure.\n",
    "Counter.SetCISemiPeriodTerm( \n",
    "                        ch,# assign a named Terminal\n",
    "                        '/Dev2/Ctr0' + 'InternalOutput') \n",
    "\n",
    "# Specifies the terminal of the timebase to use for the counter\n",
    "Counter.SetCICtrTimebaseSrc(ch, \n",
    "                    '/Dev2/PFI0')\n",
    "\n",
    "Counter.CfgImplicitTiming(DAQmx_Val_ContSamps, # Sample Mode: Acquire or generate samples until you stop the task.\n",
    "                    1000 # buffer length which stores  temporarily the number of generated samples\n",
    ")\n",
    "try:\n",
    "    Counter.StartTask()\n",
    "except Exception as e:\n",
    "    print(e)\n",
    "    Clock.StopTask()\n",
    "    Clock.ClearTask()\n",
    "\n",
    "_RWTimeout = 2\n",
    "### Read the Data from the Counter\n",
    "n_read_samples = int32()\n",
    "samples = 100\n",
    "count_data = np.empty((1, 2 * samples), dtype=np.uint32)\n",
    "Counter.ReadCounterU32(2 * samples,\n",
    "                    # maximal timeout for the read process\n",
    "                    _RWTimeout,\n",
    "                    # write the readout into this array\n",
    "                    count_data[0],\n",
    "                    # length of array to write into\n",
    "                    2 * samples,\n",
    "                    # number of samples which were read\n",
    "                    byref(n_read_samples),\n",
    "                    # Reserved for future use. Pass NULL (here None) to this parameter\n",
    "                    None)\n",
    "print(count_data)\n",
    "Counter.StopTask()\n",
    "Counter.ClearTask()\n",
    "Clock.StopTask()\n",
    "Clock.ClearTask()"
   ]
  },
  {
   "cell_type": "markdown",
   "metadata": {
    "heading_collapsed": true
   },
   "source": [
    "## Analog Input"
   ]
  },
  {
   "cell_type": "code",
   "execution_count": 10,
   "metadata": {
    "ExecuteTime": {
     "end_time": "2019-01-31T08:28:56.884825Z",
     "start_time": "2019-01-31T08:28:56.673565Z"
    },
    "hidden": true
   },
   "outputs": [
    {
     "name": "stdout",
     "output_type": "stream",
     "text": [
      "Acquired 1000 points\n"
     ]
    },
    {
     "data": {
      "text/plain": [
       "[<matplotlib.lines.Line2D at 0x1eb9b4da9b0>]"
      ]
     },
     "execution_count": 10,
     "metadata": {},
     "output_type": "execute_result"
    },
    {
     "data": {
      "image/png": "[encoded data removed]",
      "text/plain": [
       "<Figure size 432x288 with 1 Axes>"
      ]
     },
     "metadata": {},
     "output_type": "display_data"
    }
   ],
   "source": [
    "\n",
    "analog_input = Task()\n",
    "read = int32()\n",
    "data = np.zeros((999,), dtype=np.float64)\n",
    "\n",
    "# DAQmx Configure Code\n",
    "analog_input.CreateAIVoltageChan(\"Dev2/ai0\",\"\",DAQmx_Val_Cfg_Default,-10.0,10.0,DAQmx_Val_Volts,None)\n",
    "analog_input.CfgSampClkTiming(\"\",10000.0,DAQmx_Val_Rising,DAQmx_Val_FiniteSamps,1000)\n",
    "\n",
    "# DAQmx Start Code\n",
    "analog_input.StartTask()\n",
    "\n",
    "# DAQmx Read Code\n",
    "analog_input.ReadAnalogF64(1000,10.0,DAQmx_Val_GroupByChannel,data,1000,byref(read),None)\n",
    "\n",
    "print (\"Acquired %d points\"%read.value)\n",
    "plt.plot(data)\n"
   ]
  },
  {
   "cell_type": "markdown",
   "metadata": {
    "heading_collapsed": true
   },
   "source": [
    "## Analog Output"
   ]
  },
  {
   "cell_type": "code",
   "execution_count": 2,
   "metadata": {
    "ExecuteTime": {
     "end_time": "2019-08-29T14:35:34.972723Z",
     "start_time": "2019-08-29T14:35:34.864775Z"
    },
    "hidden": true
   },
   "outputs": [],
   "source": [
    "from PyDAQmx import *\n",
    "import numpy as np\n",
    "import time\n",
    "from ctypes import *\n",
    "import matplotlib.pyplot as plt\n",
    "\n",
    "\n",
    "task = Task()\n",
    "task.CreateAOVoltageChan(\"Dev4/ao0\",\"a_ch1\",-10.0,10.0,DAQmx_Val_Volts,'')\n",
    "value = 1\n",
    "task.StartTask()\n",
    "task.WriteAnalogScalarF64(1,10.0,value,None)\n",
    "# value = 0\n",
    "# task.WriteAnalogScalarF64(1,10.0,value,None)\n",
    "task.StopTask()\n",
    "\n",
    "\n"
   ]
  },
  {
   "cell_type": "code",
   "execution_count": null,
   "metadata": {
    "hidden": true
   },
   "outputs": [],
   "source": [
    "\n",
    "\n",
    "\n",
    "\n"
   ]
  },
  {
   "cell_type": "code",
   "execution_count": null,
   "metadata": {
    "hidden": true
   },
   "outputs": [],
   "source": []
  },
  {
   "cell_type": "code",
   "execution_count": null,
   "metadata": {
    "hidden": true
   },
   "outputs": [],
   "source": []
  },
  {
   "cell_type": "markdown",
   "metadata": {
    "heading_collapsed": true
   },
   "source": [
    "## Triggered Analog Output (Scanner)"
   ]
  },
  {
   "cell_type": "code",
   "execution_count": 1,
   "metadata": {
    "ExecuteTime": {
     "end_time": "2019-09-04T08:08:05.957013Z",
     "start_time": "2019-09-04T08:08:04.755480Z"
    },
    "hidden": true
   },
   "outputs": [
    {
     "name": "stdout",
     "output_type": "stream",
     "text": [
      "c_long(400)\n",
      "ddd\n"
     ]
    }
   ],
   "source": [
    "import PyDAQmx as daq\n",
    "import numpy as np\n",
    "import time\n",
    "from ctypes import *\n",
    "import matplotlib.pyplot as plt\n",
    "\n",
    "clock_channel = '/Dev4/Ctr0'\n",
    "\n",
    "\n",
    "voltages = np.array([0.0,1.0]*200)\n",
    "# voltages = np.linspace(-2,2,200)\n",
    "\n",
    "Clock = daq.Task()\n",
    "duty_cycle = 0.5\n",
    "period = 0.1\n",
    "Clock.CreateCOPulseChanFreq(clock_channel,  #  The name of the counter to use to create virtual channels\n",
    "                            \"myClockTask\", # The name to assign to the created virtual channel\n",
    "                            daq.DAQmx_Val_Hz, # The units in which to specify freq.\n",
    "                            daq.DAQmx_Val_Low, # The resting state of the output terminal.\n",
    "                            0.0, # The amount of time in seconds to wait before generating the first pulse.\n",
    "                            1/float(period), # The frequency at which to generate pulses.\n",
    "                            duty_cycle, # The width of the pulse divided by the pulse period.\n",
    "                           )\n",
    "\n",
    "# Sets only the number of samples to acquire or generate without specifying timing. \n",
    "Clock.CfgImplicitTiming(\n",
    "    daq.DAQmx_Val_ContSamps, # Acquire or generate samples until you stop the task.\n",
    "    1000 # the buffer size\n",
    ")\n",
    "Clock.StartTask()\n",
    "\n",
    "\n",
    "master = daq.TaskHandle()\n",
    "daq.DAQmxCreateTask('MasterTask', daq.byref(master))\n",
    "ch_master = '/Dev4/ao0'\n",
    "\n",
    "daq.DAQmxCreateAOVoltageChan(\n",
    "    # The AO voltage operation function is assigned to this task.\n",
    "    master,\n",
    "    # use (all) scanner ao_channels for the output\n",
    "    ch_master,\n",
    "    # assign a name for that channel\n",
    "    'Scanner AO Channel master',\n",
    "    # minimum possible voltage\n",
    "    -5,\n",
    "    # maximum possible voltage\n",
    "    5,\n",
    "    # units is Volt\n",
    "    daq.DAQmx_Val_Volts,\n",
    "    # empty for future use\n",
    "    '')\n",
    "\n",
    "daq.DAQmxCfgSampClkTiming(\n",
    "    # add to this task\n",
    "    master,\n",
    "    # use this channel as clock\n",
    "    'Ctr0InternalOutput',\n",
    "    # Maximum expected clock frequency\n",
    "    10,\n",
    "    # Generate sample on falling edge\n",
    "    daq.DAQmx_Val_Rising,\n",
    "    # generate finite number of samples\n",
    "    daq.DAQmx_Val_FiniteSamps,\n",
    "    # number of samples to generate\n",
    "    len(voltages))\n",
    "\n",
    "\n",
    "# daq.DAQmxCfgDigEdgeStartTrig(\n",
    "#     master, \n",
    "#     'Ctr0InternalOutput' ,\n",
    "#     daq.DAQmx_Val_Rising)\n",
    "\n",
    "\n",
    "_AONwrittenMaster = daq.int32()\n",
    "\n",
    "# daq.DAQmxSetSampTimingType(master, daq.DAQmx_Val_OnDemand)\n",
    "# daq.DAQmxSetSampTimingType(master, daq.DAQmx_Val_SampClk)\n",
    "\n",
    "\n",
    "\n",
    "daq.WriteAnalogF64(\n",
    "            # write to this task\n",
    "            master,\n",
    "            # length of the command (points)\n",
    "            len(voltages),\n",
    "            # start task immediately (True), or wait for software start (False)\n",
    "            False,\n",
    "            # maximal timeout in seconds for# the write process\n",
    "            20,\n",
    "            # Specify how the samples are arranged: each pixel is grouped by channel number\n",
    "            daq.DAQmx_Val_GroupByChannel,\n",
    "            # the voltages to be written\n",
    "            voltages,\n",
    "            # The actual number of samples per channel successfully written to the buffer\n",
    "            daq.byref(_AONwrittenMaster),\n",
    "            # Reserved for future use. Pass NULL(here None) to this parameter\n",
    "            None)\n",
    "daq.DAQmxStartTask(master)\n",
    "\n",
    "# Clock.StopTask()\n",
    "\n",
    "print(_AONwrittenMaster)\n",
    "print('ddd')"
   ]
  },
  {
   "cell_type": "code",
   "execution_count": null,
   "metadata": {
    "hidden": true
   },
   "outputs": [],
   "source": []
  },
  {
   "cell_type": "markdown",
   "metadata": {},
   "source": [
    "## Two synchronized analog outputs"
   ]
  },
  {
   "cell_type": "code",
   "execution_count": null,
   "metadata": {},
   "outputs": [],
   "source": [
    "import PyDAQmx as daq\n",
    "import numpy as np\n",
    "import time\n",
    "from ctypes import *\n",
    "import matplotlib.pyplot as plt\n",
    "\n",
    "master = daq.TaskHandle()\n",
    "slave = daq.TaskHandle()\n",
    "daq.DAQmxCreateTask('MasterTask', daq.byref(master))\n",
    "daq.DAQmxCreateTask('SlaveTask', daq.byref(slave))\n",
    "\n",
    "\n",
    "ch_master = '/Dev4/ao0'\n",
    "ch_slave = '/Dev3/ao0'\n",
    "# clock_channel_slave = '/Dev3/PFI7'\n",
    "# trig_source_ch = 'Dev3/ao/StartTrigger'\n",
    "\n",
    "voltages = np.array([0.0,1.0]*100)\n",
    "\n",
    "#=========Create clock channel on Dev4/Ctr0\n",
    "\n",
    "clock = daq.TaskHandle()\n",
    "# Clock = daq.Task()\n",
    "duty_cycle = 0.5\n",
    "period = 0.02\n",
    "clock_channel = '/Dev4/Ctr0'\n",
    "\n",
    "daq.DAQmxCreateAOVoltageChan(\n",
    "    # The AO voltage operation function is assigned to this task.\n",
    "    master,\n",
    "    # use (all) scanner ao_channels for the output\n",
    "    ch_master,\n",
    "    # assign a name for that channel\n",
    "    'Scanner AO Channel master',\n",
    "    # minimum possible voltage\n",
    "    -5,\n",
    "    # maximum possible voltage\n",
    "    5,\n",
    "    # units is Volt\n",
    "    daq.DAQmx_Val_Volts,\n",
    "    # empty for future use\n",
    "    '')\n",
    "\n",
    "\n",
    "\n",
    "daq.DAQmxCreateTask('myClockTask', daq.byref(clock))\n",
    "# Create channel to generate digital pulses that freq and dutyCycle define and adds the channel to the task\n",
    "daq.DAQmxCreateCOPulseChanFreq(\n",
    "    clock,\n",
    "    clock_channel,  #  The name of the counter to use to create virtual channels\n",
    "    \"myClockChannel\", # The name to assign to the created virtual channel\n",
    "    daq.DAQmx_Val_Hz, # The units in which to specify freq.\n",
    "    daq.DAQmx_Val_Low, # The resting state of the output terminal.\n",
    "    0.0, # The amount of time in seconds to wait before generating the first pulse.\n",
    "    1/float(period), # The frequency at which to generate pulses.\n",
    "    duty_cycle, # The width of the pulse divided by the pulse period.\n",
    "   )\n",
    "\n",
    "\n",
    "daq.DAQmxCfgSampClkTiming(\n",
    "    # add to this task\n",
    "    master,\n",
    "    # use this channel as clock\n",
    "    'Ctr0InternalOutput',\n",
    "    # Maximum expected clock frequency\n",
    "    1250,\n",
    "    # Generate sample on falling edge\n",
    "    daq.DAQmx_Val_Rising,\n",
    "    # generate finite number of samples\n",
    "    daq.DAQmx_Val_FiniteSamps,\n",
    "    # number of samples to generate\n",
    "    len(voltages))\n",
    "\n",
    "\n",
    "\n",
    "\n",
    "\n",
    "daq.DAQmxCreateAOVoltageChan(\n",
    "    # The AO voltage operation function is assigned to this task.\n",
    "    slave,\n",
    "    # use (all) scanner ao_channels for the output\n",
    "    ch_slave,\n",
    "    # assign a name for that channel\n",
    "    'Scanner AO Channel slave',\n",
    "    # minimum possible voltage\n",
    "    -5,\n",
    "    # maximum possible voltage\n",
    "    5,\n",
    "    # units is Volt\n",
    "    daq.DAQmx_Val_Volts,\n",
    "    # empty for future use\n",
    "    '')\n",
    "\n",
    "\n",
    "\n",
    "\n",
    "daq.DAQmxCfgSampClkTiming(\n",
    "    # add to this task\n",
    "    slave,\n",
    "    # use this channel as clock\n",
    "    '/Dev4/Ctr0InternalOutput',\n",
    "    # Maximum expected clock frequency\n",
    "    1250,\n",
    "    # Generate sample on falling edge\n",
    "    daq.DAQmx_Val_Rising,\n",
    "    # generate finite number of samples\n",
    "    daq.DAQmx_Val_FiniteSamps,\n",
    "    # number of samples to generate\n",
    "    len(voltages))\n",
    "\n",
    "\n",
    "\n",
    "# Sets only the number of samples to acquire or generate without specifying timing. \n",
    "daq.DAQmxCfgImplicitTiming(\n",
    "    clock,\n",
    "    daq.DAQmx_Val_ContSamps, # Acquire or generate samples until you stop the task.\n",
    "    1000 # the buffer size\n",
    ")\n",
    "\n",
    "# daq.DAQmxCfgOutputBuffer(slave,len(volages))\n",
    "\n",
    "daq.DAQmxStartTask(clock)\n",
    "daq.DAQmxSetSampTimingType(master, daq.DAQmx_Val_SampClk)\n",
    "daq.DAQmxSetSampTimingType(slave, daq.DAQmx_Val_SampClk)\n",
    "\n",
    "# daq.DAQmxSetSampTimingType(master, daq.DAQmx_Val_OnDemand )\n",
    "# daq.DAQmxSetSampTimingType(slave, daq.DAQmx_Val_OnDemand )\n",
    "\n",
    "_AONwrittenMaster = daq.int32()\n",
    "_AONwrittenSlave = daq.int32()\n",
    "\n",
    "\n",
    "\n",
    "\n",
    "daq.WriteAnalogF64(\n",
    "            # write to this task\n",
    "            slave,\n",
    "            # length of the command (points)\n",
    "            len(voltages),\n",
    "            # start task immediately (True), or wait for software start (False)\n",
    "            False,\n",
    "            # maximal timeout in seconds for# the write process\n",
    "            20,\n",
    "            # Specify how the samples are arranged: each pixel is grouped by channel number\n",
    "            daq.DAQmx_Val_GroupByChannel,\n",
    "            # the voltages to be written\n",
    "            voltages,\n",
    "            # The actual number of samples per channel successfully written to the buffer\n",
    "            daq.byref(_AONwrittenSlave),\n",
    "            # Reserved for future use. Pass NULL(here None) to this parameter\n",
    "            None)\n",
    "daq.DAQmxStartTask(slave)\n",
    "\n",
    "\n",
    "\n",
    "\n",
    "\n",
    "daq.WriteAnalogF64(\n",
    "            # write to this task\n",
    "            master,\n",
    "            # length of the command (points)\n",
    "            len(voltages),\n",
    "            # start task immediately (True), or wait for software start (False)\n",
    "            False,\n",
    "            # maximal timeout in seconds for# the write process\n",
    "            20,\n",
    "            # Specify how the samples are arranged: each pixel is grouped by channel number\n",
    "            daq.DAQmx_Val_GroupByChannel,\n",
    "            # the voltages to be written\n",
    "            voltages,\n",
    "            # The actual number of samples per channel successfully written to the buffer\n",
    "            daq.byref(_AONwrittenMaster),\n",
    "            # Reserved for future use. Pass NULL(here None) to this parameter\n",
    "            None)\n",
    "\n",
    "daq.DAQmxStartTask(master)\n",
    "\n",
    "print('ddd')\n",
    "\n"
   ]
  },
  {
   "cell_type": "code",
   "execution_count": null,
   "metadata": {},
   "outputs": [],
   "source": []
  },
  {
   "cell_type": "markdown",
   "metadata": {
    "heading_collapsed": true
   },
   "source": [
    "## TESTS"
   ]
  },
  {
   "cell_type": "code",
   "execution_count": 1,
   "metadata": {
    "ExecuteTime": {
     "end_time": "2019-08-29T14:39:47.289430Z",
     "start_time": "2019-08-29T14:39:46.055754Z"
    },
    "hidden": true
   },
   "outputs": [
    {
     "ename": "CannotWriteWhenAutoStartFalseAndTaskNotRunningError",
     "evalue": "Write cannot be performed when the auto start input to DAQmx Write is false, task is not running, and timing for the task is not configured or Timing Type is set to On Demand.\n\nSet auto start to true, start the task, or configure timing and specify Timing Type other than On Demand.\nTask Name: _unnamedTask<0>\n\nStatus Code: -200846\n in function DAQmxWriteAnalogF64",
     "output_type": "error",
     "traceback": [
      "\u001b[1;31m---------------------------------------------------------------------------\u001b[0m",
      "\u001b[1;31mCannotWriteWhenAutoStartFalseAndTaskNotRunningError\u001b[0mTraceback (most recent call last)",
      "\u001b[1;32m<ipython-input-1-a0205984f0d6>\u001b[0m in \u001b[0;36m<module>\u001b[1;34m()\u001b[0m\n\u001b[0;32m     27\u001b[0m     \u001b[0mdaq\u001b[0m\u001b[1;33m.\u001b[0m\u001b[0mbyref\u001b[0m\u001b[1;33m(\u001b[0m\u001b[0m_AONwritten\u001b[0m\u001b[1;33m)\u001b[0m\u001b[1;33m,\u001b[0m\u001b[1;33m\u001b[0m\u001b[0m\n\u001b[0;32m     28\u001b[0m     \u001b[1;31m# Reserved for future use. Pass NULL(here None) to this parameter\u001b[0m\u001b[1;33m\u001b[0m\u001b[1;33m\u001b[0m\u001b[0m\n\u001b[1;32m---> 29\u001b[1;33m     None)\n\u001b[0m\u001b[0;32m     30\u001b[0m \u001b[0mtask\u001b[0m\u001b[1;33m.\u001b[0m\u001b[0mStartTask\u001b[0m\u001b[1;33m(\u001b[0m\u001b[1;33m)\u001b[0m\u001b[1;33m\u001b[0m\u001b[0m\n\u001b[0;32m     31\u001b[0m \u001b[1;33m\u001b[0m\u001b[0m\n",
      "\u001b[1;32mC:\\Program Files (x86)\\Anaconda\\envs\\qudi\\lib\\site-packages\\PyDAQmx\\Task.py\u001b[0m in \u001b[0;36mWriteAnalogF64\u001b[1;34m(self, numSampsPerChan, autoStart, timeout, dataLayout, writeArray, sampsPerChanWritten, reserved)\u001b[0m\n",
      "\u001b[1;32mC:\\Program Files (x86)\\Anaconda\\envs\\qudi\\lib\\site-packages\\PyDAQmx\\DAQmxFunctions.py\u001b[0m in \u001b[0;36mfunction\u001b[1;34m(taskHandle, numSampsPerChan, autoStart, timeout, dataLayout, writeArray, sampsPerChanWritten, reserved)\u001b[0m\n",
      "\u001b[1;32mC:\\Program Files (x86)\\Anaconda\\envs\\qudi\\lib\\site-packages\\PyDAQmx\\DAQmxFunctions.py\u001b[0m in \u001b[0;36mmafunction\u001b[1;34m(*arg)\u001b[0m\n\u001b[0;32m     60\u001b[0m             \u001b[0mDAQmxGetExtendedErrorInfo\u001b[0m\u001b[1;33m(\u001b[0m\u001b[0merrBuff\u001b[0m\u001b[1;33m,\u001b[0m\u001b[1;36m2048\u001b[0m\u001b[1;33m)\u001b[0m\u001b[1;33m\u001b[0m\u001b[0m\n\u001b[0;32m     61\u001b[0m             \u001b[0mexception_class\u001b[0m \u001b[1;33m=\u001b[0m \u001b[0merror_by_number\u001b[0m\u001b[1;33m.\u001b[0m\u001b[0mget\u001b[0m\u001b[1;33m(\u001b[0m\u001b[0merror\u001b[0m\u001b[1;33m,\u001b[0m \u001b[0mDAQError\u001b[0m\u001b[1;33m)\u001b[0m\u001b[1;33m\u001b[0m\u001b[0m\n\u001b[1;32m---> 62\u001b[1;33m             \u001b[1;32mraise\u001b[0m \u001b[0mexception_class\u001b[0m\u001b[1;33m(\u001b[0m\u001b[0merrBuff\u001b[0m\u001b[1;33m.\u001b[0m\u001b[0mvalue\u001b[0m\u001b[1;33m.\u001b[0m\u001b[0mdecode\u001b[0m\u001b[1;33m(\u001b[0m\u001b[1;34m\"utf-8\"\u001b[0m\u001b[1;33m)\u001b[0m\u001b[1;33m,\u001b[0m \u001b[0mf\u001b[0m\u001b[1;33m.\u001b[0m\u001b[0m__name__\u001b[0m\u001b[1;33m)\u001b[0m\u001b[1;33m\u001b[0m\u001b[0m\n\u001b[0m\u001b[0;32m     63\u001b[0m         \u001b[1;32melif\u001b[0m \u001b[0merror\u001b[0m\u001b[1;33m>\u001b[0m\u001b[1;36m0\u001b[0m\u001b[1;33m:\u001b[0m\u001b[1;33m\u001b[0m\u001b[0m\n\u001b[0;32m     64\u001b[0m             \u001b[0merrBuff\u001b[0m \u001b[1;33m=\u001b[0m \u001b[0mcreate_string_buffer\u001b[0m\u001b[1;33m(\u001b[0m\u001b[1;36m2048\u001b[0m\u001b[1;33m)\u001b[0m\u001b[1;33m\u001b[0m\u001b[0m\n",
      "\u001b[1;31mCannotWriteWhenAutoStartFalseAndTaskNotRunningError\u001b[0m: Write cannot be performed when the auto start input to DAQmx Write is false, task is not running, and timing for the task is not configured or Timing Type is set to On Demand.\n\nSet auto start to true, start the task, or configure timing and specify Timing Type other than On Demand.\nTask Name: _unnamedTask<0>\n\nStatus Code: -200846\n in function DAQmxWriteAnalogF64"
     ]
    }
   ],
   "source": [
    "from PyDAQmx import *\n",
    "import PyDAQmx as daq\n",
    "import numpy as np\n",
    "import time\n",
    "from ctypes import *\n",
    "import matplotlib.pyplot as plt\n",
    "\n",
    "\n",
    "task = Task()\n",
    "task.CreateAOVoltageChan(\"Dev4/ao0\",\"a_ch1\",-10.0,10.0,DAQmx_Val_Volts,'')\n",
    "voltages =np.array( [0.0,0.0])\n",
    "\n",
    "_AONwritten = daq.int32()\n",
    "\n",
    "task.WriteAnalogF64(\n",
    "    # length of the command (points)\n",
    "    len(voltages),\n",
    "    # start task immediately (True), or wait for software start (False)\n",
    "    False,\n",
    "    # maximal timeout in seconds for# the write process\n",
    "    20,\n",
    "    # Specify how the samples are arranged: each pixel is grouped by channel number\n",
    "    daq.DAQmx_Val_GroupByChannel,\n",
    "    # the voltages to be written\n",
    "    voltages,\n",
    "    # The actual number of samples per channel successfully written to the buffer\n",
    "    daq.byref(_AONwritten),\n",
    "    # Reserved for future use. Pass NULL(here None) to this parameter\n",
    "    None)\n",
    "task.StartTask()\n",
    "\n",
    "task.StopTask()\n",
    "\n",
    "\n",
    "# daq.WriteAnalogF64(\n",
    "#             # write to this task\n",
    "#             master,\n",
    "#             # length of the command (points)\n",
    "#             len(voltages),\n",
    "#             # start task immediately (True), or wait for software start (False)\n",
    "#             False,\n",
    "#             # maximal timeout in seconds for# the write process\n",
    "#             20,\n",
    "#             # Specify how the samples are arranged: each pixel is grouped by channel number\n",
    "#             daq.DAQmx_Val_GroupByChannel,\n",
    "#             # the voltages to be written\n",
    "#             voltages,\n",
    "#             # The actual number of samples per channel successfully written to the buffer\n",
    "#             daq.byref(_AONwrittenMaster),\n",
    "#             # Reserved for future use. Pass NULL(here None) to this parameter\n",
    "#             None)\n",
    "\n"
   ]
  },
  {
   "cell_type": "code",
   "execution_count": null,
   "metadata": {
    "hidden": true
   },
   "outputs": [],
   "source": []
  },
  {
   "cell_type": "code",
   "execution_count": null,
   "metadata": {
    "hidden": true
   },
   "outputs": [],
   "source": []
  },
  {
   "cell_type": "code",
   "execution_count": 17,
   "metadata": {
    "ExecuteTime": {
     "end_time": "2019-02-11T13:40:03.432361Z",
     "start_time": "2019-02-11T13:40:03.428364Z"
    },
    "hidden": true
   },
   "outputs": [
    {
     "data": {
      "text/plain": [
       "2000"
      ]
     },
     "execution_count": 17,
     "metadata": {},
     "output_type": "execute_result"
    }
   ],
   "source": [
    "sum(count_data[0])"
   ]
  },
  {
   "cell_type": "code",
   "execution_count": null,
   "metadata": {
    "hidden": true
   },
   "outputs": [],
   "source": [
    "from PyDAQmx.DAQmxFunctions import *\n",
    "from PyDAQmx.DAQmxConstants import *\n",
    "\n",
    "class ContinuousPulseTrainGeneration():\n",
    "    \"\"\" Class to create a continuous pulse train on a counter\n",
    "    \n",
    "    Usage:  pulse = ContinuousTrainGeneration(period [s],\n",
    "                duty_cycle (default = 0.5), counter (default = \"dev1/ctr0\"),\n",
    "                reset = True/False)\n",
    "            pulse.start()\n",
    "            pulse.stop()\n",
    "            pulse.clear()\n",
    "    \"\"\"\n",
    "    def __init__(self, period=1., duty_cycle=0.5, counter=\"Dev2/ctr0\", reset=False):\n",
    "        if reset:\n",
    "            DAQmxResetDevice(counter.split('/')[0])\n",
    "        taskHandle = TaskHandle(0)\n",
    "        DAQmxCreateTask(\"\",byref(taskHandle))\n",
    "        DAQmxCfgAnlgEdgeStartTrig(taskHandle,'Dev2/ctr0',PyDAQmx.DAQmx_Val_RisingSlope, 60e-3)\n",
    "\n",
    "        \n",
    "        DAQmxCfgImplicitTiming(taskHandle,DAQmx_Val_ContSamps,1000)\n",
    "        \n",
    "        \n",
    "        self.taskHandle = taskHandle\n",
    "    def start(self):\n",
    "        DAQmxStartTask(self.taskHandle)\n",
    "    def stop(self):\n",
    "        DAQmxStopTask(self.taskHandle)\n",
    "    def clear(self):\n",
    "        DAQmxClearTask(self.taskHandle)\n",
    "\n",
    "\n",
    "if __name__==\"__main__\":\n",
    "    pulse_gene1 = ContinuousPulseTrainGeneration(1,0.3, \"Dev2/ctr0\", reset=True)\n",
    "    pulse_gene1.start()\n",
    "    a = input(\"Generating pulse train. Press Enter to interrupt\\n\")\n",
    "    pulse_gene1.stop()\n",
    "    pulse_gene1.clear()\n",
    "   \n",
    "\n"
   ]
  }
 ],
 "metadata": {
  "kernelspec": {
   "display_name": "Python 3",
   "language": "python",
   "name": "python3"
  },
  "language_info": {
   "codemirror_mode": {
    "name": "ipython",
    "version": 3
   },
   "file_extension": ".py",
   "mimetype": "text/x-python",
   "name": "python",
   "nbconvert_exporter": "python",
   "pygments_lexer": "ipython3",
   "version": "3.6.5"
  }
 },
 "nbformat": 4,
 "nbformat_minor": 2
}
